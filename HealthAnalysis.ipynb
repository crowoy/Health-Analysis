{
 "cells": [
  {
   "cell_type": "code",
   "execution_count": 12,
   "metadata": {
    "collapsed": false
   },
   "outputs": [],
   "source": [
    "import numpy as np\n",
    "import matplotlib.pyplot as plt\n",
    "from numpy import genfromtxt\n",
    "\n",
    "%matplotlib inline\n",
    "import matplotlib.pylab as pylab\n",
    "pylab.rcParams['figure.figsize'] = (32.0, 24.0)\n",
    "pylab.rcParams['font.size'] = 24"
   ]
  },
  {
   "cell_type": "code",
   "execution_count": 13,
   "metadata": {
    "collapsed": false
   },
   "outputs": [],
   "source": [
    "data_file = \"../Data/Jawbone/2015.csv\"\n",
    "data_features = \"Jawbone/features.csv\""
   ]
  },
  {
   "cell_type": "code",
   "execution_count": 14,
   "metadata": {
    "collapsed": true
   },
   "outputs": [],
   "source": [
    "def filterData (data):\n",
    "    h, w = data.shape\n",
    "    data = np.where((data == ''), -1, data)\n",
    "    data = np.where((data == '0'), -1, data)\n",
    "    empty = [np.all(np.delete([-1 if col[i] == '' else col[i] for col in data], [0]).astype(float) == -1) for i in range(w)]\n",
    "    n = [i for i in range(np.array(empty).size) if empty[i] == True]\n",
    "    return np.delete(data, n, axis=1)\n",
    "\n",
    "def getFeature (data, feature):\n",
    "    index = np.where(data[0] == feature)[0][0]\n",
    "    extracted = np.delete([-1 if col[index] == '' else col[index] for col in data], [0]).astype(float)\n",
    "    return extracted / np.amax(extracted)"
   ]
  },
  {
   "cell_type": "code",
   "execution_count": 18,
   "metadata": {
    "collapsed": false
   },
   "outputs": [],
   "source": [
    "data = filterData(genfromtxt(data_file, dtype=None, delimiter=','))\n",
    "features = genfromtxt(data_features, dtype=str, delimiter=',')"
   ]
  }
 ],
 "metadata": {
  "kernelspec": {
   "display_name": "Python 2",
   "language": "python",
   "name": "python2"
  },
  "language_info": {
   "codemirror_mode": {
    "name": "ipython",
    "version": 2
   },
   "file_extension": ".py",
   "mimetype": "text/x-python",
   "name": "python",
   "nbconvert_exporter": "python",
   "pygments_lexer": "ipython2",
   "version": "2.7.11"
  }
 },
 "nbformat": 4,
 "nbformat_minor": 0
}
